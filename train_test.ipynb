{
  "nbformat": 4,
  "nbformat_minor": 0,
  "metadata": {
    "colab": {
      "provenance": [],
      "collapsed_sections": [],
      "authorship_tag": "ABX9TyOGWMh7F6R5qvrJUinhSrzT",
      "include_colab_link": true
    },
    "kernelspec": {
      "name": "python3",
      "display_name": "Python 3"
    },
    "language_info": {
      "name": "python"
    }
  },
  "cells": [
    {
      "cell_type": "markdown",
      "metadata": {
        "id": "view-in-github",
        "colab_type": "text"
      },
      "source": [
        "<a href=\"https://colab.research.google.com/github/Namanjain6152/matplotlib/blob/main/train_test.ipynb\" target=\"_parent\"><img src=\"https://colab.research.google.com/assets/colab-badge.svg\" alt=\"Open In Colab\"/></a>"
      ]
    },
    {
      "cell_type": "code",
      "execution_count": 12,
      "metadata": {
        "id": "EVbIKWol22aS"
      },
      "outputs": [],
      "source": [
        "from sklearn import datasets \n",
        "import matplotlib.pyplot as plt\n",
        "from sklearn.model_selection import train_test_split"
      ]
    },
    {
      "cell_type": "code",
      "source": [
        "iris= datasets.load_iris()"
      ],
      "metadata": {
        "id": "SgptaZOb3RXI"
      },
      "execution_count": 4,
      "outputs": []
    },
    {
      "cell_type": "code",
      "source": [
        "x= iris.data\n",
        "y= iris.target\n",
        "print(x.shape)\n",
        "print(y.shape)\n",
        "plt.plot(x,y)\n",
        "print(x)\n",
        "print(y)"
      ],
      "metadata": {
        "id": "9CccZG_73ab_"
      },
      "execution_count": null,
      "outputs": []
    },
    {
      "cell_type": "code",
      "source": [
        "x_train, x_test, y_train, y_test= train_test_split(x,y,test_size=0.2)"
      ],
      "metadata": {
        "id": "ASADWlmh4hiI"
      },
      "execution_count": 14,
      "outputs": []
    },
    {
      "cell_type": "code",
      "source": [
        "print(x_train.shape)\n",
        "print(x_test.shape)\n",
        "print(y_train.shape)\n",
        "print(y_test.shape)"
      ],
      "metadata": {
        "id": "UCEcoI-M5BRA"
      },
      "execution_count": null,
      "outputs": []
    }
  ]
}